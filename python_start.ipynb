{
  "nbformat": 4,
  "nbformat_minor": 0,
  "metadata": {
    "colab": {
      "name": "python_start.ipynb",
      "provenance": [],
      "authorship_tag": "ABX9TyNrs2aPBHyKZvhSCk6RXbqP",
      "include_colab_link": true
    },
    "kernelspec": {
      "name": "python3",
      "display_name": "Python 3"
    },
    "language_info": {
      "name": "python"
    }
  },
  "cells": [
    {
      "cell_type": "markdown",
      "metadata": {
        "id": "view-in-github",
        "colab_type": "text"
      },
      "source": [
        "<a href=\"https://colab.research.google.com/github/yeonhyeeun/Python_study/blob/main/python_start.ipynb\" target=\"_parent\"><img src=\"https://colab.research.google.com/assets/colab-badge.svg\" alt=\"Open In Colab\"/></a>"
      ]
    },
    {
      "cell_type": "code",
      "execution_count": 1,
      "metadata": {
        "colab": {
          "base_uri": "https://localhost:8080/"
        },
        "id": "0FPPEaQybWVL",
        "outputId": "14903b05-bcd3-40b9-df3c-0d68c9be50c8"
      },
      "outputs": [
        {
          "output_type": "stream",
          "name": "stdout",
          "text": [
            "Hello world!\n"
          ]
        }
      ],
      "source": [
        "print(\"Hello world!\")"
      ]
    },
    {
      "cell_type": "code",
      "source": [
        "my_name = \"Hyerong\"\n",
        "print(my_name)\n",
        "dead = False \n",
        "alive = True \n",
        "zero = False\n",
        "one = True \n",
        "\n"
      ],
      "metadata": {
        "colab": {
          "base_uri": "https://localhost:8080/"
        },
        "id": "4uyPO35ecFpc",
        "outputId": "5fcee275-a126-44d8-c944-b65624d59c0e"
      },
      "execution_count": 3,
      "outputs": [
        {
          "output_type": "stream",
          "name": "stdout",
          "text": [
            "Hyerong\n"
          ]
        }
      ]
    },
    {
      "cell_type": "code",
      "source": [
        "def say_hello(name): \n",
        "  print(\"hello\", name, \"how r u?\")\n",
        "##2칸 들여쓰기 {} 사용 안 함  \n",
        "##argument(parameter)의 type을 작성해주지 않아도 된다. \n",
        "##+기호가 아닌 ,기호로 추가한다. \n",
        "say_hello(\"hyerong\")\n",
        "say_hello(\"hyeeun\")"
      ],
      "metadata": {
        "colab": {
          "base_uri": "https://localhost:8080/"
        },
        "id": "TnlUeI4QdxBW",
        "outputId": "aa2d8164-957e-4c3c-f740-813aeb1f9ef3"
      },
      "execution_count": 3,
      "outputs": [
        {
          "output_type": "stream",
          "name": "stdout",
          "text": [
            "hello hyerong how r u?\n",
            "hello hyeeun how r u?\n"
          ]
        }
      ]
    },
    {
      "cell_type": "code",
      "source": [
        "def say_bye(name1,name2 ):\n",
        "  print(\" bye\", name1, \"\\n\",\"bye\", name2)\n",
        "\n",
        "say_bye(\"hyerong\", \"hyeeun\")"
      ],
      "metadata": {
        "colab": {
          "base_uri": "https://localhost:8080/"
        },
        "id": "OfVL7fuXecua",
        "outputId": "be8452f2-1fcf-4f09-8818-f754d4fab54b"
      },
      "execution_count": 7,
      "outputs": [
        {
          "output_type": "stream",
          "name": "stdout",
          "text": [
            " bye hyerong \n",
            " bye hyeeun\n"
          ]
        }
      ]
    },
    {
      "cell_type": "markdown",
      "source": [],
      "metadata": {
        "id": "gKYqi3AU3Zq5"
      }
    },
    {
      "cell_type": "code",
      "source": [],
      "metadata": {
        "id": "W-PuzcMhevWS"
      },
      "execution_count": null,
      "outputs": []
    }
  ]
}